{
 "cells": [
  {
   "cell_type": "markdown",
   "id": "b4e8e9d8-0f18-4988-a0a1-ebd8fc89c3e2",
   "metadata": {},
   "source": [
    "# **DECISION TREE AND RANDOM FOREST ON IRIS DATASET**"
   ]
  },
  {
   "cell_type": "code",
   "execution_count": null,
   "id": "1a422e3a-ed63-4c8c-95b7-10bb801b7bea",
   "metadata": {},
   "outputs": [],
   "source": []
  },
  {
   "cell_type": "markdown",
   "id": "3ef2379f-8de6-4ebb-b274-09dd575c283f",
   "metadata": {},
   "source": [
    "### **1. Import Statements and Loading Dataset**"
   ]
  },
  {
   "cell_type": "code",
   "execution_count": 4,
   "id": "1e5575d1-25e7-48f2-b931-e731d9e7ec79",
   "metadata": {},
   "outputs": [],
   "source": [
    "# Import the required libraries\n",
    "import pandas as pd\n",
    "import numpy as np\n",
    "import matplotlib.pyplot as plt\n",
    "from sklearn.tree import DecisionTreeClassifier\n",
    "from sklearn.ensemble import RandomForestClassifier\n",
    "from sklearn.model_selection import train_test_split\n",
    "from sklearn.metrics import accuracy_score\n",
    "from sklearn.metrics import confusion_matrix\n",
    "from sklearn.metrics import ConfusionMatrixDisplay\n",
    "from sklearn.model_selection import cross_val_score"
   ]
  },
  {
   "cell_type": "code",
   "execution_count": 5,
   "id": "3674b02e-4537-4f14-9f33-edd1b607cd24",
   "metadata": {},
   "outputs": [
    {
     "data": {
      "text/html": [
       "<div>\n",
       "<style scoped>\n",
       "    .dataframe tbody tr th:only-of-type {\n",
       "        vertical-align: middle;\n",
       "    }\n",
       "\n",
       "    .dataframe tbody tr th {\n",
       "        vertical-align: top;\n",
       "    }\n",
       "\n",
       "    .dataframe thead th {\n",
       "        text-align: right;\n",
       "    }\n",
       "</style>\n",
       "<table border=\"1\" class=\"dataframe\">\n",
       "  <thead>\n",
       "    <tr style=\"text-align: right;\">\n",
       "      <th></th>\n",
       "      <th>Id</th>\n",
       "      <th>SepalLengthCm</th>\n",
       "      <th>SepalWidthCm</th>\n",
       "      <th>PetalLengthCm</th>\n",
       "      <th>PetalWidthCm</th>\n",
       "      <th>Species</th>\n",
       "    </tr>\n",
       "  </thead>\n",
       "  <tbody>\n",
       "    <tr>\n",
       "      <th>93</th>\n",
       "      <td>94</td>\n",
       "      <td>5.0</td>\n",
       "      <td>2.3</td>\n",
       "      <td>3.3</td>\n",
       "      <td>1.0</td>\n",
       "      <td>Iris-versicolor</td>\n",
       "    </tr>\n",
       "    <tr>\n",
       "      <th>23</th>\n",
       "      <td>24</td>\n",
       "      <td>5.1</td>\n",
       "      <td>3.3</td>\n",
       "      <td>1.7</td>\n",
       "      <td>0.5</td>\n",
       "      <td>Iris-setosa</td>\n",
       "    </tr>\n",
       "    <tr>\n",
       "      <th>116</th>\n",
       "      <td>117</td>\n",
       "      <td>6.5</td>\n",
       "      <td>3.0</td>\n",
       "      <td>5.5</td>\n",
       "      <td>1.8</td>\n",
       "      <td>Iris-virginica</td>\n",
       "    </tr>\n",
       "    <tr>\n",
       "      <th>70</th>\n",
       "      <td>71</td>\n",
       "      <td>5.9</td>\n",
       "      <td>3.2</td>\n",
       "      <td>4.8</td>\n",
       "      <td>1.8</td>\n",
       "      <td>Iris-versicolor</td>\n",
       "    </tr>\n",
       "    <tr>\n",
       "      <th>37</th>\n",
       "      <td>38</td>\n",
       "      <td>4.9</td>\n",
       "      <td>3.1</td>\n",
       "      <td>1.5</td>\n",
       "      <td>0.1</td>\n",
       "      <td>Iris-setosa</td>\n",
       "    </tr>\n",
       "  </tbody>\n",
       "</table>\n",
       "</div>"
      ],
      "text/plain": [
       "      Id  SepalLengthCm  SepalWidthCm  PetalLengthCm  PetalWidthCm  \\\n",
       "93    94            5.0           2.3            3.3           1.0   \n",
       "23    24            5.1           3.3            1.7           0.5   \n",
       "116  117            6.5           3.0            5.5           1.8   \n",
       "70    71            5.9           3.2            4.8           1.8   \n",
       "37    38            4.9           3.1            1.5           0.1   \n",
       "\n",
       "             Species  \n",
       "93   Iris-versicolor  \n",
       "23       Iris-setosa  \n",
       "116   Iris-virginica  \n",
       "70   Iris-versicolor  \n",
       "37       Iris-setosa  "
      ]
     },
     "execution_count": 5,
     "metadata": {},
     "output_type": "execute_result"
    }
   ],
   "source": [
    "# Read the dataset and print a few samples\n",
    "df = pd.read_csv('Iris.csv')\n",
    "df.sample(5)"
   ]
  },
  {
   "cell_type": "code",
   "execution_count": 6,
   "id": "1671006a-a885-412d-8066-ceab4e90207d",
   "metadata": {},
   "outputs": [
    {
     "data": {
      "text/html": [
       "<div>\n",
       "<style scoped>\n",
       "    .dataframe tbody tr th:only-of-type {\n",
       "        vertical-align: middle;\n",
       "    }\n",
       "\n",
       "    .dataframe tbody tr th {\n",
       "        vertical-align: top;\n",
       "    }\n",
       "\n",
       "    .dataframe thead th {\n",
       "        text-align: right;\n",
       "    }\n",
       "</style>\n",
       "<table border=\"1\" class=\"dataframe\">\n",
       "  <thead>\n",
       "    <tr style=\"text-align: right;\">\n",
       "      <th></th>\n",
       "      <th>Id</th>\n",
       "      <th>SepalLengthCm</th>\n",
       "      <th>SepalWidthCm</th>\n",
       "      <th>PetalLengthCm</th>\n",
       "      <th>PetalWidthCm</th>\n",
       "    </tr>\n",
       "  </thead>\n",
       "  <tbody>\n",
       "    <tr>\n",
       "      <th>count</th>\n",
       "      <td>150.000000</td>\n",
       "      <td>150.000000</td>\n",
       "      <td>150.000000</td>\n",
       "      <td>150.000000</td>\n",
       "      <td>150.000000</td>\n",
       "    </tr>\n",
       "    <tr>\n",
       "      <th>mean</th>\n",
       "      <td>75.500000</td>\n",
       "      <td>5.843333</td>\n",
       "      <td>3.054000</td>\n",
       "      <td>3.758667</td>\n",
       "      <td>1.198667</td>\n",
       "    </tr>\n",
       "    <tr>\n",
       "      <th>std</th>\n",
       "      <td>43.445368</td>\n",
       "      <td>0.828066</td>\n",
       "      <td>0.433594</td>\n",
       "      <td>1.764420</td>\n",
       "      <td>0.763161</td>\n",
       "    </tr>\n",
       "    <tr>\n",
       "      <th>min</th>\n",
       "      <td>1.000000</td>\n",
       "      <td>4.300000</td>\n",
       "      <td>2.000000</td>\n",
       "      <td>1.000000</td>\n",
       "      <td>0.100000</td>\n",
       "    </tr>\n",
       "    <tr>\n",
       "      <th>25%</th>\n",
       "      <td>38.250000</td>\n",
       "      <td>5.100000</td>\n",
       "      <td>2.800000</td>\n",
       "      <td>1.600000</td>\n",
       "      <td>0.300000</td>\n",
       "    </tr>\n",
       "    <tr>\n",
       "      <th>50%</th>\n",
       "      <td>75.500000</td>\n",
       "      <td>5.800000</td>\n",
       "      <td>3.000000</td>\n",
       "      <td>4.350000</td>\n",
       "      <td>1.300000</td>\n",
       "    </tr>\n",
       "    <tr>\n",
       "      <th>75%</th>\n",
       "      <td>112.750000</td>\n",
       "      <td>6.400000</td>\n",
       "      <td>3.300000</td>\n",
       "      <td>5.100000</td>\n",
       "      <td>1.800000</td>\n",
       "    </tr>\n",
       "    <tr>\n",
       "      <th>max</th>\n",
       "      <td>150.000000</td>\n",
       "      <td>7.900000</td>\n",
       "      <td>4.400000</td>\n",
       "      <td>6.900000</td>\n",
       "      <td>2.500000</td>\n",
       "    </tr>\n",
       "  </tbody>\n",
       "</table>\n",
       "</div>"
      ],
      "text/plain": [
       "               Id  SepalLengthCm  SepalWidthCm  PetalLengthCm  PetalWidthCm\n",
       "count  150.000000     150.000000    150.000000     150.000000    150.000000\n",
       "mean    75.500000       5.843333      3.054000       3.758667      1.198667\n",
       "std     43.445368       0.828066      0.433594       1.764420      0.763161\n",
       "min      1.000000       4.300000      2.000000       1.000000      0.100000\n",
       "25%     38.250000       5.100000      2.800000       1.600000      0.300000\n",
       "50%     75.500000       5.800000      3.000000       4.350000      1.300000\n",
       "75%    112.750000       6.400000      3.300000       5.100000      1.800000\n",
       "max    150.000000       7.900000      4.400000       6.900000      2.500000"
      ]
     },
     "execution_count": 6,
     "metadata": {},
     "output_type": "execute_result"
    }
   ],
   "source": [
    "# Describe the dataset\n",
    "df.describe()"
   ]
  },
  {
   "cell_type": "code",
   "execution_count": null,
   "id": "9ae8a32d-a8ca-4475-98c0-f528fc9a15a7",
   "metadata": {},
   "outputs": [],
   "source": []
  },
  {
   "cell_type": "markdown",
   "id": "ff6bd12a-dc98-4242-b4e1-f6886f6fa291",
   "metadata": {},
   "source": [
    "### **2. Preparing the dataset**"
   ]
  },
  {
   "cell_type": "code",
   "execution_count": 8,
   "id": "69d8d8a1-33de-44de-b69c-fd1b65e267f0",
   "metadata": {},
   "outputs": [],
   "source": [
    "# Get the features and target/label columns\n",
    "X = df[['SepalLengthCm','SepalWidthCm','PetalLengthCm','PetalWidthCm']]\n",
    "y = df.Species"
   ]
  },
  {
   "cell_type": "code",
   "execution_count": 9,
   "id": "2caf1a7b-90ab-459f-92c9-f8b2208739ed",
   "metadata": {},
   "outputs": [],
   "source": [
    "# Split the data into train and test\n",
    "X_train, X_val, y_train, y_val = train_test_split(X,y)"
   ]
  },
  {
   "cell_type": "code",
   "execution_count": null,
   "id": "32cf83b9-db75-48c9-b480-4bbff542e74d",
   "metadata": {},
   "outputs": [],
   "source": []
  },
  {
   "cell_type": "markdown",
   "id": "041a0136-426b-4503-981c-99af6d4ed0e8",
   "metadata": {},
   "source": [
    "### **3. Model Initialization, Training Data and Making Predictions**"
   ]
  },
  {
   "cell_type": "markdown",
   "id": "98f19199-13d6-4734-be29-a5a8804e8a6f",
   "metadata": {},
   "source": [
    "#### **3.1. Decision Tree Classifier**"
   ]
  },
  {
   "cell_type": "code",
   "execution_count": 12,
   "id": "0a1cb100-3e35-4141-ac6a-c87c0ffc4e6c",
   "metadata": {},
   "outputs": [],
   "source": [
    "dt_model = DecisionTreeClassifier(random_state = 42) # Initialize a Decision Tree Classifier with fixed random state for reproducibility\n",
    "dt_model.fit(X_train,y_train) # Train the decision tree model on the training data\n",
    "y_pred_dt = dt_model.predict(X_val) # Use the trained model to make predictions on validation data"
   ]
  },
  {
   "cell_type": "markdown",
   "id": "e8bb9c07-d16e-4030-9c2a-7a0c05ab410a",
   "metadata": {},
   "source": [
    "#### **3.2. Random Forest Classifier**"
   ]
  },
  {
   "cell_type": "code",
   "execution_count": 14,
   "id": "e9204901-e9d8-4d31-8e05-47a3de3fcbe4",
   "metadata": {},
   "outputs": [],
   "source": [
    "rf_model = RandomForestClassifier(random_state = 42) # Initialize a Random Forest Classifier with fixed random state for reproducibility\n",
    "rf_model.fit(X_train,y_train) # Train the Random Forest model on the training data\n",
    "y_pred_rf = rf_model.predict(X_val) # Use the trained model to make predictions on validation data"
   ]
  },
  {
   "cell_type": "code",
   "execution_count": null,
   "id": "72535335-4e09-4c3b-b090-782925b0ee4f",
   "metadata": {},
   "outputs": [],
   "source": []
  },
  {
   "cell_type": "markdown",
   "id": "6a8b07a9-6fc3-4bfa-b710-70fe90f920d6",
   "metadata": {},
   "source": [
    "### **4. Model Validation**"
   ]
  },
  {
   "cell_type": "markdown",
   "id": "b699d3eb-6be0-4c29-abfa-d9ad275b34e8",
   "metadata": {},
   "source": [
    "#### **4.1. Accuracy Score**"
   ]
  },
  {
   "cell_type": "code",
   "execution_count": 17,
   "id": "c44d171f-104c-41da-9352-ad9ca3c0ed12",
   "metadata": {},
   "outputs": [
    {
     "name": "stdout",
     "output_type": "stream",
     "text": [
      "0.9473684210526315\n",
      "0.9473684210526315\n"
     ]
    }
   ],
   "source": [
    "print(accuracy_score(y_val, y_pred_dt))\n",
    "print(accuracy_score(y_val, y_pred_rf))"
   ]
  },
  {
   "cell_type": "markdown",
   "id": "a140ded2-99c0-4cf1-8b85-abf10c6aaa7c",
   "metadata": {},
   "source": [
    "#### **4.2. Confusion Matrix**"
   ]
  },
  {
   "cell_type": "code",
   "execution_count": 19,
   "id": "c34a5b23-c5ae-41cd-b81d-5085bbf289d9",
   "metadata": {},
   "outputs": [],
   "source": [
    "cm_dt = confusion_matrix(y_val, y_pred_dt)  # Decision Tree\n",
    "cm_rf = confusion_matrix(y_val, y_pred_rf)  # Random Forest"
   ]
  },
  {
   "cell_type": "code",
   "execution_count": 20,
   "id": "2c3868e2-d056-416f-88e2-2ad8710cf606",
   "metadata": {},
   "outputs": [
    {
     "data": {
      "image/png": "[encoded data removed]",
      "text/plain": [
       "<Figure size 640x480 with 2 Axes>"
      ]
     },
     "metadata": {},
     "output_type": "display_data"
    }
   ],
   "source": [
    "# Decison Tree Plot\n",
    "disp = ConfusionMatrixDisplay(confusion_matrix=cm_dt, display_labels=np.unique(df['Species']))\n",
    "disp.plot(cmap='Blues', values_format='d')\n",
    "plt.title(\"Confusion Matrix for Decision Tree\")\n",
    "plt.show()"
   ]
  },
  {
   "cell_type": "code",
   "execution_count": 21,
   "id": "f5f11b4a-2705-40d0-9e4c-f0872502427b",
   "metadata": {},
   "outputs": [
    {
     "data": {
      "image/png": "[encoded data removed]",
      "text/plain": [
       "<Figure size 640x480 with 2 Axes>"
      ]
     },
     "metadata": {},
     "output_type": "display_data"
    }
   ],
   "source": [
    "# Random Forest Plot\n",
    "disp = ConfusionMatrixDisplay(confusion_matrix=cm_rf, display_labels=np.unique(df['Species']))\n",
    "disp.plot(cmap='Blues', values_format='d')\n",
    "plt.title(\"Confusion Matrix for Random Forest\")\n",
    "plt.show()"
   ]
  },
  {
   "cell_type": "markdown",
   "id": "513b34f1-48ef-4bfa-b9b2-fba7fd5727b2",
   "metadata": {},
   "source": [
    "#### **4.3. Cross Validation Score**"
   ]
  },
  {
   "cell_type": "code",
   "execution_count": 23,
   "id": "ed0c33ef-be3d-4fdf-8de2-5ba13fea06a4",
   "metadata": {},
   "outputs": [
    {
     "name": "stdout",
     "output_type": "stream",
     "text": [
      "0.9462450592885375\n",
      "0.9462450592885375\n"
     ]
    }
   ],
   "source": [
    "print(cross_val_score(dt_model, X_train, y_train, cv=5).mean())\n",
    "print(cross_val_score(rf_model, X_train, y_train, cv=5).mean())"
   ]
  },
  {
   "cell_type": "code",
   "execution_count": null,
   "id": "2cdbd3a7-2c8f-4e85-9150-2c5e6388c8f3",
   "metadata": {},
   "outputs": [],
   "source": []
  },
  {
   "cell_type": "markdown",
   "id": "5dca4c1a-d24c-456d-8f18-fb664588c194",
   "metadata": {},
   "source": [
    "### **5. Prediction using new data (User given)**"
   ]
  },
  {
   "cell_type": "code",
   "execution_count": 25,
   "id": "f818bde0-0485-49a9-8546-edba1c4b02d9",
   "metadata": {},
   "outputs": [
    {
     "name": "stdout",
     "output_type": "stream",
     "text": [
      "Iris-setosa\n"
     ]
    }
   ],
   "source": [
    "# Make predicition using Decision Tree for new flower\n",
    "new_flower = pd.DataFrame([[4,2,1,6]],columns = ['SepalLengthCm', 'SepalWidthCm', 'PetalLengthCm', 'PetalWidthCm'])\n",
    "new_flower_pred = dt_model.predict(new_flower)\n",
    "print(new_flower_pred[0])"
   ]
  },
  {
   "cell_type": "code",
   "execution_count": 26,
   "id": "04d50960-7297-4095-9ae2-205e18060725",
   "metadata": {},
   "outputs": [
    {
     "name": "stdout",
     "output_type": "stream",
     "text": [
      "Iris-setosa\n"
     ]
    }
   ],
   "source": [
    "# Make predicition using Random Forest for new flower\n",
    "new_flower = pd.DataFrame([[4,2,1,6]],columns = ['SepalLengthCm', 'SepalWidthCm', 'PetalLengthCm', 'PetalWidthCm'])\n",
    "new_flower_pred = rf_model.predict(new_flower)\n",
    "print(new_flower_pred[0])"
   ]
  }
 ],
 "metadata": {
  "kernelspec": {
   "display_name": "Python 3 (ipykernel)",
   "language": "python",
   "name": "python3"
  },
  "language_info": {
   "codemirror_mode": {
    "name": "ipython",
    "version": 3
   },
   "file_extension": ".py",
   "mimetype": "text/x-python",
   "name": "python",
   "nbconvert_exporter": "python",
   "pygments_lexer": "ipython3",
   "version": "3.12.7"
  }
 },
 "nbformat": 4,
 "nbformat_minor": 5
}
